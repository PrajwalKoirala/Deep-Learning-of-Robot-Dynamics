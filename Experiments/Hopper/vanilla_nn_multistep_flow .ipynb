{
 "cells": [
  {
   "cell_type": "code",
   "execution_count": 17,
   "metadata": {},
   "outputs": [],
   "source": [
    "import h5py\n",
    "import numpy as np\n",
    "import matplotlib.pyplot as plt\n",
    "import torch\n",
    "import torch.nn as nn\n",
    "import torch.optim as optim\n",
    "from torch.utils.data import DataLoader, TensorDataset\n",
    "import time"
   ]
  },
  {
   "cell_type": "code",
   "execution_count": 18,
   "metadata": {},
   "outputs": [
    {
     "name": "stderr",
     "output_type": "stream",
     "text": [
      "/home/prajwal/workfolder/SAC-X-DT/.conda/lib/python3.10/site-packages/gym/envs/registration.py:555: UserWarning: \u001b[33mWARN: The environment Hopper-v2 is out of date. You should consider upgrading to version `v4`.\u001b[0m\n",
      "  logger.warn(\n",
      "/home/prajwal/workfolder/SAC-X-DT/.conda/lib/python3.10/site-packages/gym/envs/mujoco/mujoco_env.py:191: UserWarning: \u001b[33mWARN: This version of the mujoco environments depends on the mujoco-py bindings, which are no longer maintained and may stop working. Please upgrade to the v4 versions of the environments (which depend on the mujoco python bindings instead), unless you are trying to precisely replicate previous works).\u001b[0m\n",
      "  logger.warn(\n",
      "load datafile: 100%|██████████| 11/11 [00:00<00:00, 33.85it/s]\n"
     ]
    }
   ],
   "source": [
    "from utils import *\n",
    "dataset_name1 = \"hopper-medium-replay-v2\"\n",
    "dataset1, env_info = get_dataset(dataset_name1)\n",
    "env_name = env_info['env_name']\n",
    "state_dim = env_info['state_dim']\n",
    "act_dim = env_info['action_dim']"
   ]
  },
  {
   "cell_type": "code",
   "execution_count": 19,
   "metadata": {},
   "outputs": [
    {
     "name": "stderr",
     "output_type": "stream",
     "text": [
      "load datafile: 100%|██████████| 21/21 [00:00<00:00, 28.95it/s]\n"
     ]
    }
   ],
   "source": [
    "dataset_name2 = \"hopper-expert-v2\"\n",
    "dataset2, _ = get_dataset(dataset_name2)"
   ]
  },
  {
   "cell_type": "code",
   "execution_count": 20,
   "metadata": {},
   "outputs": [
    {
     "data": {
      "text/plain": [
       "dict_keys(['actions', 'infos/action_log_probs', 'infos/qpos', 'infos/qvel', 'metadata/algorithm', 'metadata/iteration', 'next_observations', 'observations', 'rewards', 'terminals', 'timeouts'])"
      ]
     },
     "execution_count": 20,
     "metadata": {},
     "output_type": "execute_result"
    }
   ],
   "source": [
    "dataset1.keys()"
   ]
  },
  {
   "cell_type": "code",
   "execution_count": 21,
   "metadata": {},
   "outputs": [],
   "source": [
    "dataset1_obs = np.concatenate([dataset1['infos/qpos'], dataset1['infos/qvel']], axis=1)\n",
    "dataset2_obs = np.concatenate([dataset2['infos/qpos'], dataset2['infos/qvel']], axis=1)"
   ]
  },
  {
   "cell_type": "code",
   "execution_count": 22,
   "metadata": {},
   "outputs": [],
   "source": [
    "observations = np.concatenate((dataset1_obs, dataset2_obs), axis=0)\n",
    "actions = np.concatenate((dataset1['actions'], dataset2['actions']), axis=0)\n",
    "next_observations = np.concatenate((dataset1['next_observations'], dataset2['next_observations']), axis=0)"
   ]
  },
  {
   "cell_type": "code",
   "execution_count": 23,
   "metadata": {},
   "outputs": [],
   "source": [
    "next_observations = np.roll(observations, -1, axis=0)"
   ]
  },
  {
   "cell_type": "code",
   "execution_count": 24,
   "metadata": {},
   "outputs": [],
   "source": [
    "mask = ~np.concatenate((dataset1['terminals']+dataset1['timeouts'], dataset2['terminals']+dataset2['timeouts']), axis=0)"
   ]
  },
  {
   "cell_type": "code",
   "execution_count": 25,
   "metadata": {},
   "outputs": [],
   "source": [
    "observations = np.array(observations[mask], dtype=np.float32)\n",
    "actions = np.array(actions[mask], dtype=np.float32)\n",
    "next_observations = np.array(next_observations[mask], dtype=np.float32)"
   ]
  },
  {
   "cell_type": "code",
   "execution_count": 26,
   "metadata": {},
   "outputs": [],
   "source": [
    "class dataset(torch.utils.data.Dataset):\n",
    "    def __init__(self, observations, actions, next_observations):\n",
    "        self.obs_dim = observations.shape[1]\n",
    "        self.act_dim = actions.shape[1]\n",
    "        self.input_obs_act = np.concatenate((observations, actions), axis=1)\n",
    "        self.next_observations = next_observations\n",
    "\n",
    "    def __len__(self):\n",
    "        return len(self.input_obs_act)\n",
    "\n",
    "    def __getitem__(self, idx):\n",
    "        return (self.input_obs_act[idx], self.next_observations[idx])"
   ]
  },
  {
   "cell_type": "code",
   "execution_count": 27,
   "metadata": {},
   "outputs": [],
   "source": [
    "class Dynamics(nn.Module):\n",
    "    def __init__(self, state_dim, act_dim, model_size=[256, 256], NStep=10):\n",
    "        super(Dynamics, self).__init__()\n",
    "        self.state_dim = state_dim\n",
    "        self.act_dim = act_dim\n",
    "        self.model_size = model_size\n",
    "        self.fc1 = nn.Linear(state_dim + act_dim, model_size[0])\n",
    "        self.fc2 = nn.Linear(model_size[0], model_size[1])\n",
    "        self.fc3 = nn.Linear(model_size[1], state_dim)\n",
    "        self.model_seq = nn.Sequential(self.fc1, nn.ReLU(), \n",
    "                                       self.fc2, nn.ReLU(), \n",
    "                                       self.fc3)\n",
    "        self.NStep = NStep\n",
    "\n",
    "    def forward(self, x):\n",
    "        for i in range(self.NStep):\n",
    "            v = self.model_seq(x)\n",
    "            next_state = x[:, :self.state_dim] + v\n",
    "            x = torch.cat((next_state, x[:, self.state_dim:]), dim=1)\n",
    "        return x[:, :self.state_dim]\n",
    "    \n",
    "    def predict(self, obs, act):\n",
    "        x = torch.cat((obs, act), dim=1)\n",
    "        return self.forward(x)"
   ]
  },
  {
   "cell_type": "code",
   "execution_count": 28,
   "metadata": {},
   "outputs": [],
   "source": [
    "hopper_dataset = dataset(observations, actions, next_observations)\n",
    "train_size = int(0.8 * len(hopper_dataset))\n",
    "test_size = len(hopper_dataset) - train_size\n",
    "train_dataset, test_dataset = torch.utils.data.random_split(hopper_dataset, [train_size, test_size])\n",
    "train_loader = DataLoader(train_dataset, batch_size=256, shuffle=True)\n",
    "test_loader = DataLoader(test_dataset, batch_size=256, shuffle=False)"
   ]
  },
  {
   "cell_type": "code",
   "execution_count": 29,
   "metadata": {},
   "outputs": [
    {
     "data": {
      "text/plain": [
       "(1398932, 1119145, 279787)"
      ]
     },
     "execution_count": 29,
     "metadata": {},
     "output_type": "execute_result"
    }
   ],
   "source": [
    "len(hopper_dataset), len(train_dataset), len(test_dataset)"
   ]
  },
  {
   "cell_type": "code",
   "execution_count": 30,
   "metadata": {},
   "outputs": [],
   "source": [
    "model = Dynamics(state_dim=observations.shape[1], act_dim=actions.shape[1])\n",
    "criterion = nn.MSELoss()\n",
    "optimizer = optim.Adam(model.parameters(), lr=1e-3)"
   ]
  },
  {
   "cell_type": "code",
   "execution_count": 31,
   "metadata": {},
   "outputs": [
    {
     "name": "stdout",
     "output_type": "stream",
     "text": [
      "Initial test loss: 12.305607441468513\n"
     ]
    }
   ],
   "source": [
    "# initial mse loss on test set\n",
    "test_loss = 0\n",
    "model.eval()\n",
    "for i, data in enumerate(test_loader, 0):\n",
    "    inputs, labels = data\n",
    "    inputs = inputs.float()\n",
    "    labels = labels.float()\n",
    "    outputs = model(inputs)\n",
    "    test_loss += criterion(outputs, labels).item()\n",
    "test_loss /= len(test_loader)\n",
    "print(f\"Initial test loss: {test_loss}\")\n"
   ]
  },
  {
   "cell_type": "code",
   "execution_count": 32,
   "metadata": {},
   "outputs": [
    {
     "name": "stdout",
     "output_type": "stream",
     "text": [
      "Epoch: 1, Training Loss (Epoch): 0.0515, Training Loss (Last Batch): 0.0200, Time: 55.17\n",
      "Test Loss: 0.0205\n",
      "Time Alloted: 57.06\n",
      "--------------------------------------------------\n",
      "Epoch: 2, Training Loss (Epoch): 0.0143, Training Loss (Last Batch): 0.0083, Time: 56.77\n",
      "Test Loss: 0.0096\n",
      "Time Alloted: 60.58\n",
      "--------------------------------------------------\n",
      "Epoch: 3, Training Loss (Epoch): 0.0091, Training Loss (Last Batch): 0.0070, Time: 59.39\n",
      "Test Loss: 0.0069\n",
      "Time Alloted: 61.47\n",
      "--------------------------------------------------\n",
      "Epoch: 4, Training Loss (Epoch): 0.0071, Training Loss (Last Batch): 0.0050, Time: 61.03\n",
      "Test Loss: 0.0058\n",
      "Time Alloted: 64.84\n",
      "--------------------------------------------------\n",
      "Epoch: 5, Training Loss (Epoch): 0.0059, Training Loss (Last Batch): 0.0031, Time: 61.04\n",
      "Test Loss: 0.0057\n",
      "Time Alloted: 64.87\n",
      "--------------------------------------------------\n",
      "Epoch: 6, Training Loss (Epoch): 0.0054, Training Loss (Last Batch): 0.0039, Time: 60.13\n",
      "Test Loss: 0.0052\n",
      "Time Alloted: 62.05\n",
      "--------------------------------------------------\n",
      "Epoch: 7, Training Loss (Epoch): 0.0048, Training Loss (Last Batch): 0.0073, Time: 62.67\n",
      "Test Loss: 0.0076\n",
      "Time Alloted: 66.46\n",
      "--------------------------------------------------\n",
      "Epoch: 8, Training Loss (Epoch): 0.0046, Training Loss (Last Batch): 0.0040, Time: 62.23\n",
      "Test Loss: 0.0057\n",
      "Time Alloted: 66.06\n",
      "--------------------------------------------------\n",
      "Epoch: 9, Training Loss (Epoch): 0.0044, Training Loss (Last Batch): 0.0038, Time: 63.16\n",
      "Test Loss: 0.0035\n",
      "Time Alloted: 67.17\n",
      "--------------------------------------------------\n",
      "Epoch: 10, Training Loss (Epoch): 0.0042, Training Loss (Last Batch): 0.0036, Time: 62.65\n",
      "Test Loss: 0.0038\n",
      "Time Alloted: 64.60\n",
      "--------------------------------------------------\n"
     ]
    }
   ],
   "source": [
    "batch_size=256\n",
    "epochs=10\n",
    "lr=1e-3\n",
    "training_losses = []\n",
    "test_losses = []\n",
    "for epoch in range(epochs):\n",
    "    start_time = time.time()\n",
    "    model.train()\n",
    "    train_loss = 0\n",
    "    for i, (data, target) in enumerate(train_loader):\n",
    "        optimizer.zero_grad()\n",
    "        output = model(data)\n",
    "        loss = criterion(output, target)\n",
    "        loss.backward()\n",
    "        optimizer.step()\n",
    "        train_loss += loss.item()\n",
    "    train_loss /= len(train_loader)\n",
    "    print('Epoch: {}, Training Loss (Epoch): {:.4f}, Training Loss (Last Batch): {:.4f}, Time: {:.2f}'.format(epoch+1, train_loss, loss.item(), time.time()-start_time))\n",
    "    training_losses.append(train_loss)\n",
    "    model.eval()\n",
    "    test_loss = 0\n",
    "    with torch.no_grad():\n",
    "        for i, (data, target) in enumerate(test_loader):\n",
    "            output = model(data)\n",
    "            loss = criterion(output, target)\n",
    "            test_loss += loss.item()\n",
    "        test_loss /= len(test_loader)\n",
    "        test_losses.append(test_loss)\n",
    "    print('Test Loss: {:.4f}'.format(test_loss))\n",
    "    print('Time Alloted: {:.2f}'.format(time.time()-start_time))\n",
    "    print('-----'*10)"
   ]
  },
  {
   "cell_type": "code",
   "execution_count": 33,
   "metadata": {},
   "outputs": [
    {
     "data": {
      "image/png": "[encoded data removed]",
      "text/plain": [
       "<Figure size 640x480 with 1 Axes>"
      ]
     },
     "metadata": {},
     "output_type": "display_data"
    }
   ],
   "source": [
    "plt.plot(training_losses, label='Training Loss')\n",
    "plt.plot(test_losses, label='Test Loss')\n",
    "plt.legend()\n",
    "plt.xlabel('Epochs')\n",
    "plt.ylabel('Loss')\n",
    "plt.title('Training and Test Loss')\n",
    "plt.show()"
   ]
  },
  {
   "cell_type": "code",
   "execution_count": 34,
   "metadata": {},
   "outputs": [
    {
     "name": "stderr",
     "output_type": "stream",
     "text": [
      "load datafile: 100%|██████████| 9/9 [00:00<00:00, 12.02it/s]\n"
     ]
    }
   ],
   "source": [
    "test_dataset_name = \"hopper-random-v2\"\n",
    "test_dataset, env_info = get_dataset(test_dataset_name)"
   ]
  },
  {
   "cell_type": "code",
   "execution_count": 35,
   "metadata": {},
   "outputs": [],
   "source": [
    "rand_obs = np.concatenate([test_dataset['infos/qpos'], test_dataset['infos/qvel']], axis=1)\n",
    "rand_act = test_dataset['actions']\n",
    "rand_next_obs = test_dataset['next_observations']"
   ]
  },
  {
   "cell_type": "code",
   "execution_count": 36,
   "metadata": {},
   "outputs": [
    {
     "name": "stdout",
     "output_type": "stream",
     "text": [
      "Mean Squared Error: 0.009580123238265514\n"
     ]
    }
   ],
   "source": [
    "pred_next_obs = model.predict(torch.tensor(rand_obs).float(), torch.tensor(rand_act).float()).detach().numpy()\n",
    "mse = np.mean((pred_next_obs[:,1:] - rand_next_obs)**2)\n",
    "print(f\"Mean Squared Error: {mse}\")"
   ]
  },
  {
   "cell_type": "code",
   "execution_count": 37,
   "metadata": {},
   "outputs": [
    {
     "name": "stderr",
     "output_type": "stream",
     "text": [
      "load datafile: 100%|██████████| 21/21 [00:00<00:00, 27.52it/s]\n"
     ]
    }
   ],
   "source": [
    "test_dataset_name = \"hopper-medium-v2\"\n",
    "test_dataset, env_info = get_dataset(test_dataset_name)"
   ]
  },
  {
   "cell_type": "code",
   "execution_count": 38,
   "metadata": {},
   "outputs": [],
   "source": [
    "expert_obs = np.concatenate([test_dataset['infos/qpos'], test_dataset['infos/qvel']], axis=1)\n",
    "expert_act = test_dataset['actions']\n",
    "expert_next_obs = test_dataset['next_observations']"
   ]
  },
  {
   "cell_type": "code",
   "execution_count": 39,
   "metadata": {},
   "outputs": [
    {
     "name": "stdout",
     "output_type": "stream",
     "text": [
      "MSE: 0.006783456075936556\n"
     ]
    }
   ],
   "source": [
    "pred_next_obs = model.predict(torch.tensor(expert_obs).float(), torch.tensor(expert_act).float()).detach().numpy()\n",
    "mse = np.mean((pred_next_obs[:,1:] - expert_next_obs)**2)\n",
    "print(f\"MSE: {mse}\")"
   ]
  },
  {
   "cell_type": "code",
   "execution_count": 40,
   "metadata": {},
   "outputs": [],
   "source": [
    "torch.save(model, './TrainedModels/multistep_flow_dynamics_hopper.pth')"
   ]
  },
  {
   "cell_type": "code",
   "execution_count": null,
   "metadata": {},
   "outputs": [],
   "source": []
  }
 ],
 "metadata": {
  "kernelspec": {
   "display_name": "Python 3",
   "language": "python",
   "name": "python3"
  },
  "language_info": {
   "codemirror_mode": {
    "name": "ipython",
    "version": 3
   },
   "file_extension": ".py",
   "mimetype": "text/x-python",
   "name": "python",
   "nbconvert_exporter": "python",
   "pygments_lexer": "ipython3",
   "version": "3.10.13"
  }
 },
 "nbformat": 4,
 "nbformat_minor": 2
}
